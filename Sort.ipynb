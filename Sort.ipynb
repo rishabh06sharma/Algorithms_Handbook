{
 "cells": [
  {
   "cell_type": "markdown",
   "metadata": {},
   "source": [
    "# 1. Selection sort"
   ]
  },
  {
   "cell_type": "code",
   "execution_count": 4,
   "metadata": {},
   "outputs": [
    {
     "data": {
      "image/png": "[encoded data removed]",
      "text/plain": [
       "<Figure size 432x288 with 1 Axes>"
      ]
     },
     "metadata": {
      "needs_background": "light"
     },
     "output_type": "display_data"
    }
   ],
   "source": [
    "import random\n",
    "import matplotlib.pyplot as plt\n",
    "from IPython.display import display, clear_output\n",
    "class sort:\n",
    "    def __init__(self,lower_limit,upper_limit,numbers):\n",
    "        self.list=random.sample(range(lower_limit, upper_limit), numbers)\n",
    "        self.index=[i for i in range(len(self.list))]\n",
    "#         print(self.list)\n",
    "    def find_min(self,list):\n",
    "        min_val=list[0]\n",
    "        min_index=0\n",
    "        for val in range(len(list)):\n",
    "            if list[val]<min_val:\n",
    "                min_val=list[val]\n",
    "                min_index=val\n",
    "                \n",
    "        if len(self.list)>len(list):\n",
    "            min_index=(len(self.list)-len(list))+min_index\n",
    "        return min_index\n",
    "    \n",
    "    def sort_it(self):\n",
    "        for val in range(len(self.list)):\n",
    "            index=self.find_min(self.list[val:len(self.list)])\n",
    "            self.list[index],self.list[val]=self.list[val],self.list[index]\n",
    "            plt.bar(self.index,self.list)\n",
    "            plt.title(\"Selection Sort\")\n",
    "            plt.show()\n",
    "            clear_output(wait = True)\n",
    "            \n",
    "#         print(self.list)\n",
    "\n",
    "                \n",
    "cl=sort(0,1000,100)\n",
    "cl.sort_it()"
   ]
  },
  {
   "cell_type": "markdown",
   "metadata": {},
   "source": [
    "# 2. Insertion sort"
   ]
  },
  {
   "cell_type": "code",
   "execution_count": 5,
   "metadata": {},
   "outputs": [
    {
     "data": {
      "image/png": "[encoded data removed]",
      "text/plain": [
       "<Figure size 432x288 with 1 Axes>"
      ]
     },
     "metadata": {
      "needs_background": "light"
     },
     "output_type": "display_data"
    }
   ],
   "source": [
    "import random\n",
    "import matplotlib.pyplot as plt\n",
    "from IPython.display import display, clear_output\n",
    "class i_sort:\n",
    "    def __init__(self,lower_limit,upper_limit,numbers):\n",
    "        self.list=random.sample(range(lower_limit, upper_limit), numbers)\n",
    "        self.index=[i for i in range(len(self.list))]\n",
    "        print(self.list)\n",
    "        \n",
    "    def swap(self,ind_1,ind_2):\n",
    "        self.list[ind_1],self.list[ind_2]=self.list[ind_2],self.list[ind_1]\n",
    "\n",
    "    def i_sort_it(self):\n",
    "        for val in range(0,len(self.list)):\n",
    "            for val_1 in range(val,0,-1):\n",
    "                if self.list[val_1]<self.list[val_1-1]:\n",
    "                    self.swap(val_1,val_1-1)\n",
    "                else:\n",
    "                    break\n",
    "                plt.bar(self.index,self.list)\n",
    "                plt.title(\"Insertion Sort\")\n",
    "                plt.show()\n",
    "                if val!=len(self.list):\n",
    "                    clear_output(wait = True)\n",
    "\n",
    "cl=i_sort(0,1000,100)\n",
    "cl.i_sort_it()"
   ]
  },
  {
   "cell_type": "markdown",
   "metadata": {},
   "source": [
    "# 3. Shell Sort\n",
    "knuth sequence\n",
    "* h=(3*h)+1"
   ]
  },
  {
   "cell_type": "code",
   "execution_count": 11,
   "metadata": {},
   "outputs": [
    {
     "data": {
      "image/png": "[encoded data removed]",
      "text/plain": [
       "<Figure size 432x288 with 1 Axes>"
      ]
     },
     "metadata": {
      "needs_background": "light"
     },
     "output_type": "display_data"
    }
   ],
   "source": [
    "import random\n",
    "import matplotlib.pyplot as plt\n",
    "from IPython.display import display, clear_output\n",
    "class shell_sort():\n",
    "    def __init__(self,lower_limit,upper_limit,numbers):\n",
    "        self.list=random.sample(range(lower_limit, upper_limit), numbers)\n",
    "        self.index=[i for i in range(len(self.list))]\n",
    "        self.generate_series()\n",
    "        print(self.list)\n",
    "        \n",
    "    def swap(self,ind1,ind2):\n",
    "        self.list[ind1],self.list[ind2]=self.list[ind2],self.list[ind1]\n",
    "    \n",
    "    def generate_series(self):\n",
    "        self.seq=[]\n",
    "        for val in range(len(self.list)):\n",
    "            digit=(3*val)+1\n",
    "            if digit>len(self.list):\n",
    "                break\n",
    "            self.seq.append(digit)\n",
    "        self.seq=self.seq[::-1]\n",
    "                \n",
    "    def s_sort(self):\n",
    "        for seq in self.seq:\n",
    "            for val in range(0,(len(self.list)//seq)*seq,seq):\n",
    "                for val_1 in range(val,0,-seq):\n",
    "                    if self.list[val_1]<self.list[val_1-seq]:\n",
    "                        self.swap(val_1,val_1-seq)\n",
    "                    else:\n",
    "                        break\n",
    "                    plt.bar(self.index,self.list)\n",
    "                    plt.title(\"Shell Sort\")\n",
    "                    plt.show()\n",
    "                    clear_output(wait = True)\n",
    "        plt.bar(self.index,self.list)\n",
    "        plt.show()\n",
    "\n",
    "\n",
    "ss=shell_sort(0,1000,50)\n",
    "ss.generate_series()\n",
    "ss.s_sort()\n",
    "plt.show()"
   ]
  },
  {
   "cell_type": "markdown",
   "metadata": {},
   "source": [
    "# 4. Knuth sort (Shuffle)"
   ]
  },
  {
   "cell_type": "code",
   "execution_count": 12,
   "metadata": {},
   "outputs": [
    {
     "data": {
      "image/png": "[encoded data removed]",
      "text/plain": [
       "<Figure size 432x288 with 1 Axes>"
      ]
     },
     "metadata": {
      "needs_background": "light"
     },
     "output_type": "display_data"
    }
   ],
   "source": [
    "import random\n",
    "import matplotlib.pyplot as plt\n",
    "from IPython.display import display, clear_output\n",
    "class shuffle():\n",
    "    def __init__(self,numbers):\n",
    "        self.list=[i for i in range(numbers)]\n",
    "        self.index=[j for j in range(numbers)]\n",
    "    def swap(self,ind1,ind2):\n",
    "        self.list[ind1],self.list[ind2]=self.list[ind2],self.list[ind1]\n",
    "    def shuff(self):\n",
    "        for val in range(len(self.list)):\n",
    "            self.swap(val,random.randint(0,val))\n",
    "            plt.bar(self.index,self.list)\n",
    "            plt.title(\"Knuth Sort(Shuffle)\")\n",
    "            plt.show()\n",
    "            if val!=len(self.list):\n",
    "                clear_output(wait = True)\n",
    "\n",
    "\n",
    "sh=shuffle(100)\n",
    "sh.shuff()"
   ]
  },
  {
   "cell_type": "markdown",
   "metadata": {},
   "source": [
    "# 5. Merge sort"
   ]
  },
  {
   "cell_type": "code",
   "execution_count": 1,
   "metadata": {},
   "outputs": [
    {
     "data": {
      "image/png": "[encoded data removed]",
      "text/plain": [
       "<Figure size 432x288 with 1 Axes>"
      ]
     },
     "metadata": {
      "needs_background": "light"
     },
     "output_type": "display_data"
    }
   ],
   "source": [
    "import copy\n",
    "import random\n",
    "import matplotlib.pyplot as plt\n",
    "from IPython.display import display, clear_output\n",
    "class msort:\n",
    "    def __init__(self,lower_limit, upper_limit, numbers):\n",
    "        self.list=random.sample(range(lower_limit, upper_limit), numbers)\n",
    "        self.index=[i for i in range(len(self.list))]\n",
    "    \n",
    "    \n",
    "    \n",
    "    def merge(self,lis,low,mid,high,aux):\n",
    "        \n",
    "        for val in range(low,high+1):\n",
    "            aux[val]=lis[val]\n",
    "\n",
    "        start_1=low\n",
    "        start_2=mid+1\n",
    "        for val in range(low,high+1):\n",
    "            if start_1>mid:\n",
    "                lis[val]=aux[start_2]\n",
    "                start_2=start_2+1\n",
    "            elif start_2>high:\n",
    "                lis[val]=aux[start_1]\n",
    "                start_1=start_1+1\n",
    "            elif aux[start_1]>aux[start_2]:\n",
    "                lis[val]=aux[start_2]\n",
    "                start_2=start_2+1\n",
    "            elif aux[start_1]<aux[start_2]:\n",
    "                lis[val]=aux[start_1]\n",
    "                start_1=start_1+1\n",
    "        plt.bar(self.index,lis)\n",
    "        plt.title(\"Merge Sort\")\n",
    "        plt.show()\n",
    "        if high>low:\n",
    "            clear_output(wait = True)\n",
    "    \n",
    "    def _sort(self,list,low,high,aux):\n",
    "        if high<=low:\n",
    "            return\n",
    "        mid=int((high+low)/2)\n",
    "        self._sort(list,low,mid,aux)\n",
    "        self._sort(list,mid+1,high,aux)\n",
    "        self.merge(list,low,mid,high,aux)\n",
    "        \n",
    "\n",
    "    def msort(self,list):\n",
    "        aux=copy.deepcopy(list)\n",
    "        self._sort(list,0,len(list)-1,aux)\n",
    "        \n",
    "ms=msort(0,1000,100)\n",
    "ms.msort(ms.list)"
   ]
  },
  {
   "cell_type": "markdown",
   "metadata": {},
   "source": [
    "# 6. Quicksort\n",
    "\n",
    "* Better than mergesort\n",
    "* Not stable\n",
    "* Cant't handle duplicates"
   ]
  },
  {
   "cell_type": "code",
   "execution_count": 3,
   "metadata": {},
   "outputs": [
    {
     "data": {
      "image/png": "[encoded data removed]",
      "text/plain": [
       "<Figure size 432x288 with 1 Axes>"
      ]
     },
     "metadata": {
      "needs_background": "light"
     },
     "output_type": "display_data"
    }
   ],
   "source": [
    "# %matplotlib inline\n",
    "from IPython.display import display, clear_output\n",
    "import matplotlib.animation as animation\n",
    "from IPython.display import HTML\n",
    "import time\n",
    "from jupyterplot import ProgressPlot\n",
    "import random\n",
    "import matplotlib.pyplot as plt\n",
    "class quicksort():\n",
    "    def __init__(self,lower_limit,upper_limit,numbers):\n",
    "        self.lower_limit=lower_limit\n",
    "        self.upper_limit=upper_limit\n",
    "        self.numbers=numbers\n",
    "        self.list=random.sample(range(lower_limit, upper_limit), numbers)\n",
    "        self.index=[i for i in range(len(self.list))]\n",
    "        if numbers<=50:\n",
    "            print(self.list)\n",
    "    def pot(self,list):\n",
    "        plt.bar(self.list,list)\n",
    "            \n",
    "    def _sort(self,list,start,end):\n",
    "        pointer_1=start\n",
    "        pointer_2=end\n",
    "        while True:\n",
    "            while list[pointer_1]<list[start]:\n",
    "                pointer_1=pointer_1+1\n",
    "                if pointer_1==end:\n",
    "                    break\n",
    "                \n",
    "            while list[pointer_2]>list[start]:\n",
    "                pointer_2=pointer_2-1\n",
    "                if pointer_2==start:\n",
    "                    break\n",
    "            if pointer_1>=pointer_2:\n",
    "                break\n",
    "            list[pointer_1],list[pointer_2]=list[pointer_2],list[pointer_1]\n",
    "        list[start],list[pointer_2]=list[pointer_2],list[start]\n",
    "        plt.bar(self.index,list)\n",
    "        plt.title(\"Quick Sort\")\n",
    "        plt.show()\n",
    "        clear_output(wait = True)\n",
    "        return pointer_2\n",
    "        \n",
    "    def sort(self,list,start,end):\n",
    "        if end<=start:\n",
    "            return\n",
    "        pointer_2=self._sort(self.list,start,end)\n",
    "        self.sort(self.list,start+1,pointer_2)\n",
    "        self.sort(self.list,pointer_2+1,end)\n",
    "\n",
    "qs=quicksort(0,10000,100)\n",
    "qs.sort(qs.list,0,len(qs.list)-1)"
   ]
  }
 ],
 "metadata": {
  "kernelspec": {
   "display_name": "Python 3",
   "language": "python",
   "name": "python3"
  },
  "language_info": {
   "codemirror_mode": {
    "name": "ipython",
    "version": 3
   },
   "file_extension": ".py",
   "mimetype": "text/x-python",
   "name": "python",
   "nbconvert_exporter": "python",
   "pygments_lexer": "ipython3",
   "version": "3.6.1"
  }
 },
 "nbformat": 4,
 "nbformat_minor": 4
}
