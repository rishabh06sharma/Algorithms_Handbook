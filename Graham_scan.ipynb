{
 "cells": [
  {
   "cell_type": "code",
   "execution_count": 5,
   "metadata": {},
   "outputs": [
    {
     "data": {
      "image/png": "[encoded data removed]",
      "text/plain": [
       "<Figure size 432x288 with 1 Axes>"
      ]
     },
     "metadata": {
      "needs_background": "light"
     },
     "output_type": "display_data"
    }
   ],
   "source": [
    "import random\n",
    "import math\n",
    "import numpy as np\n",
    "import matplotlib.pyplot as plt\n",
    "\n",
    "class grahm:\n",
    "    def __init__(self):\n",
    "        self.stack1=[]\n",
    "        self.x=random.sample(range(0, 1000), 10)\n",
    "        self.y=random.sample(range(0, 1000), 10)\n",
    "        self.min_index=self.y.index(np.min(self.y))\n",
    "\n",
    "\n",
    "    def angle(self,x1,y1,x2,y2):\n",
    "        angle=math.atan2((y2-y1),(x2-x1))*(180/math.pi)\n",
    "        if angle<0:\n",
    "            angle=180+abs(angle)\n",
    "        return angle\n",
    "    \n",
    "    def check_rotation(self,ax,ay,bx,by,cx,cy):\n",
    "        area=((bx-ax)*(cy-ay))-((by-ay)*(cx-ax))\n",
    "        if area>0:\n",
    "            return 1\n",
    "        elif area<0:\n",
    "            return -1\n",
    "        else:\n",
    "            return 0\n",
    "\n",
    "    def sort(self):\n",
    "        temp_angle={}\n",
    "        for val in range(len(self.y)):\n",
    "            try:\n",
    "                temp_angle.update({val:self.angle(self.x[self.min_index],self.y[self.min_index],self.x[val],self.y[val])})\n",
    "            except:\n",
    "                pass\n",
    "        sorted_index=sorted(temp_angle, key=temp_angle.get)[0:len(self.y)]\n",
    "        sorted_angles=sorted(temp_angle.values())[0:len(self.y)]\n",
    "        return sorted_index,sorted_angles\n",
    "\n",
    "    def plot(self,array,sorted_index):\n",
    "        self.newx=[]\n",
    "        self.newy=[]\n",
    "        for val in array:\n",
    "            self.newx.append(self.x[val])\n",
    "            self.newy.append(self.y[val])\n",
    "        self.newx.append(self.x[sorted_index[0]])\n",
    "        self.newy.append(self.y[sorted_index[0]])\n",
    "        plt.plot(self.newx,self.newy)\n",
    "        plt.plot(self.x,self.y,'o')\n",
    "        plt.show()\n",
    "    \n",
    "    def three_points(self):\n",
    "        ax=self.x[self.stack1[-3]]\n",
    "        ay=self.y[self.stack1[-3]]\n",
    "        bx=self.x[self.stack1[-2]]\n",
    "        by=self.y[self.stack1[-2]]\n",
    "        cx=self.x[self.stack1[-1]]\n",
    "        cy=self.y[self.stack1[-1]]\n",
    "        return ax,ay,bx,by,cx,cy\n",
    "    \n",
    "    def check(self):\n",
    "        ax,ay,bx,by,cx,cy=self.three_points()\n",
    "        if self.check_rotation(ax,ay,bx,by,cx,cy)==1:\n",
    "            return\n",
    "        else:\n",
    "            del self.stack1[-2]\n",
    "            self.check()\n",
    "\n",
    "    def main(self):\n",
    "        sorted_index,sorted_angles=self.sort()\n",
    "        self.stack1.append(sorted_index[0])\n",
    "        temp=1\n",
    "        while self.stack1[-1]!=sorted_index[-1]:\n",
    "            if len(self.stack1)>=3:\n",
    "                ax,ay,bx,by,cx,cy=self.three_points()\n",
    "                if self.check_rotation(ax,ay,bx,by,cx,cy)==1:\n",
    "                    self.stack1.append(sorted_index[temp])\n",
    "                elif self.check_rotation(ax,ay,bx,by,cx,cy)==-1:\n",
    "                    del self.stack1[-2]\n",
    "                    self.stack1.append(sorted_index[temp])\n",
    "                elif self.check_rotation(ax,ay,bx,by,cx,cy)==0:\n",
    "                    del self.stack1[-2]\n",
    "                    self.stack1.append(sorted_index[temp])\n",
    "                self.check()\n",
    "            else:\n",
    "                self.stack1.append(sorted_index[temp])\n",
    "            temp+=1\n",
    "        self.plot(self.stack1,sorted_index)\n",
    "        \n",
    "\n",
    "gr=grahm()\n",
    "gr.main()\n",
    "\n"
   ]
  },
  {
   "cell_type": "code",
   "execution_count": null,
   "metadata": {},
   "outputs": [],
   "source": []
  },
  {
   "cell_type": "code",
   "execution_count": null,
   "metadata": {},
   "outputs": [],
   "source": []
  }
 ],
 "metadata": {
  "kernelspec": {
   "display_name": "Python 3",
   "language": "python",
   "name": "python3"
  },
  "language_info": {
   "codemirror_mode": {
    "name": "ipython",
    "version": 3
   },
   "file_extension": ".py",
   "mimetype": "text/x-python",
   "name": "python",
   "nbconvert_exporter": "python",
   "pygments_lexer": "ipython3",
   "version": "3.6.1"
  }
 },
 "nbformat": 4,
 "nbformat_minor": 4
}
