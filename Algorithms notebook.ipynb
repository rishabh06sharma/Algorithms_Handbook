{
 "cells": [
  {
   "cell_type": "code",
   "execution_count": 1,
   "metadata": {},
   "outputs": [],
   "source": [
    "import numpy as np"
   ]
  },
  {
   "cell_type": "markdown",
   "metadata": {},
   "source": [
    "# 1. Quick-find\n",
    "Checks the connection between two points"
   ]
  },
  {
   "cell_type": "code",
   "execution_count": 3,
   "metadata": {},
   "outputs": [],
   "source": [
    "class quickfind:\n",
    "    def __init__(self,L):\n",
    "        self.ls=list(range(0, L))\n",
    "    def connected(self,a,b):\n",
    "        if self.ls[a]==self.ls[b]:\n",
    "            print('already connected')\n",
    "        else:\n",
    "            print(False)\n",
    "    def union(self,a,b):\n",
    "        val1,val2=self.ls[a],self.ls[b]\n",
    "        self.ls[a]=self.ls[b]\n",
    "        for l in range(0,len(self.ls)):\n",
    "            if self.ls[l]==val1:\n",
    "                self.ls[l]=self.ls[b]\n",
    "  "
   ]
  },
  {
   "cell_type": "code",
   "execution_count": 4,
   "metadata": {},
   "outputs": [
    {
     "name": "stdout",
     "output_type": "stream",
     "text": [
      "[0, 1, 1, 8, 8, 0, 0, 1, 8, 8]\n"
     ]
    }
   ],
   "source": [
    "qf=quickfind(10)\n",
    "qf.union(4,3)\n",
    "qf.union(3,8)\n",
    "qf.union(6,5)\n",
    "qf.union(9,4)\n",
    "qf.union(2,1)\n",
    "qf.union(5,0)\n",
    "qf.union(7,2)\n",
    "print(qf.ls)\n",
    "qf.union(6,1)"
   ]
  },
  {
   "cell_type": "markdown",
   "metadata": {},
   "source": [
    "<ul>\n",
    "<li>Cost of the algorithm: Union is expensive (N^2)</li>\n",
    "<li>Very slow</li>\n",
    "</ul>"
   ]
  },
  {
   "cell_type": "markdown",
   "metadata": {},
   "source": [
    "# 2. Quick-Union\n"
   ]
  },
  {
   "cell_type": "code",
   "execution_count": 5,
   "metadata": {},
   "outputs": [],
   "source": [
    "class quickunion:\n",
    "    def __init__(self,L):\n",
    "        self.ls=list(range(0, L))\n",
    "    \n",
    "    def root(self,x):\n",
    "        while x!=self.ls[x]:\n",
    "            x=self.ls[x]\n",
    "        return x\n",
    "    def connected(self,a,b):\n",
    "        if quickunion.root(self,a)==quickunion.root(self,b):\n",
    "            print('already connected')\n",
    "        else:\n",
    "            print(False)\n",
    "    def union(self,a,b):\n",
    "        val1,val2=self.root(a),self.root(b)\n",
    "        self.ls[val1]=val2\n"
   ]
  },
  {
   "cell_type": "code",
   "execution_count": 6,
   "metadata": {},
   "outputs": [
    {
     "name": "stdout",
     "output_type": "stream",
     "text": [
      "already connected\n",
      "False\n",
      "[1, 1, 1, 8, 3, 0, 5, 1, 8, 8]\n"
     ]
    }
   ],
   "source": [
    "qu=quickunion(10)\n",
    "qu.union(4,3)\n",
    "qu.union(3,8)\n",
    "qu.union(6,5)\n",
    "qu.union(9,4)\n",
    "qu.union(2,1)\n",
    "qu.connected(8,9)\n",
    "qu.connected(5,4)\n",
    "qu.union(5,0)\n",
    "qu.union(7,2)\n",
    "qu.union(6,1)\n",
    "print(qu.ls)"
   ]
  },
  {
   "cell_type": "markdown",
   "metadata": {},
   "source": [
    "Faster than Quick find but also slow generally\n",
    "\n",
    "Improvements:\n",
    "\n",
    "\n",
    "<ul>\n",
    "<li>Weighting</li>\n",
    "    can keep track the number of entities in a tree and then union them accordingly\n",
    "</ul>"
   ]
  },
  {
   "cell_type": "markdown",
   "metadata": {},
   "source": [
    "# 2. Weighted Quick-Union\n"
   ]
  },
  {
   "cell_type": "code",
   "execution_count": 9,
   "metadata": {},
   "outputs": [],
   "source": [
    "class w_quickunion:\n",
    "    def __init__(self,L):\n",
    "        self.ls=list(range(0, L))\n",
    "        self.sz=[1]*L\n",
    "    \n",
    "    def root(self,x):\n",
    "        while x!=self.ls[x]:\n",
    "            x=self.ls[x]\n",
    "        return x\n",
    "    def connected(self,a,b):\n",
    "        if self.root(a)==self.root(b):\n",
    "            print('Already connected')\n",
    "        else:\n",
    "            print(\"Not connected\")\n",
    "    def union(self,a,b):\n",
    "        val1,val2=self.root(a),self.root(b)\n",
    "        if val1==val2:\n",
    "            return\n",
    "        if self.sz[val1]<self.sz[val2]:\n",
    "            self.ls[val1]=val2\n",
    "            self.sz[val2]+=self.sz[val1]\n",
    "        else:\n",
    "            self.ls[val2]=val1\n",
    "            self.sz[val1]+=self.sz[val2]"
   ]
  },
  {
   "cell_type": "code",
   "execution_count": 10,
   "metadata": {},
   "outputs": [
    {
     "name": "stdout",
     "output_type": "stream",
     "text": [
      "[1, 1, 1, 1, 1, 1, 1, 1, 1, 1]\n",
      "Already connected\n",
      "Not connected\n",
      "[6, 2, 6, 4, 6, 6, 6, 2, 4, 4]\n"
     ]
    }
   ],
   "source": [
    "qu=w_quickunion(10)\n",
    "print(qu.sz)\n",
    "qu.union(4,3)\n",
    "qu.union(3,8)\n",
    "qu.union(6,5)\n",
    "qu.union(9,4)\n",
    "qu.union(2,1)\n",
    "qu.connected(8,9)\n",
    "qu.connected(5,4)\n",
    "qu.union(5,0)\n",
    "qu.union(7,2)\n",
    "qu.union(6,1)\n",
    "qu.union(7,3)\n",
    "\n",
    "print(qu.ls)\n",
    "\n"
   ]
  },
  {
   "cell_type": "markdown",
   "metadata": {},
   "source": [
    "# Weighted quick-unio with path compression"
   ]
  },
  {
   "cell_type": "markdown",
   "metadata": {},
   "source": [
    "Flatning the tree"
   ]
  },
  {
   "cell_type": "code",
   "execution_count": 11,
   "metadata": {},
   "outputs": [],
   "source": [
    "class w_quickunion:\n",
    "    def __init__(self,L):\n",
    "        self.ls=list(range(0, L))\n",
    "        self.sz=[1]*L\n",
    "    \n",
    "    def root(self,x):\n",
    "        while x!=self.ls[x]:\n",
    "            self.ls[x]=self.ls[self.ls[x]]\n",
    "            x=self.ls[x]\n",
    "        return x\n",
    "    def connected(self,a,b):\n",
    "        if self.root(a)==self.root(b):\n",
    "            print('Already connected')\n",
    "        else:\n",
    "            print(\"Not connected\")\n",
    "       \n",
    "    def union(self,a,b):\n",
    "        val1,val2=self.root(a),self.root(b)\n",
    "        if val1==val2:\n",
    "            return\n",
    "        if self.sz[val1]<self.sz[val2]:\n",
    "            self.ls[val1]=val2\n",
    "            self.sz[val2]+=self.sz[val1]\n",
    "        else:\n",
    "            self.ls[val2]=val1\n",
    "            self.sz[val1]+=self.sz[val2]"
   ]
  },
  {
   "cell_type": "code",
   "execution_count": 12,
   "metadata": {},
   "outputs": [
    {
     "name": "stdout",
     "output_type": "stream",
     "text": [
      "[1, 1, 1, 1, 1, 1, 1, 1, 1, 1]\n",
      "Already connected\n",
      "Not connected\n",
      "[6, 2, 6, 4, 6, 6, 6, 6, 4, 4]\n"
     ]
    }
   ],
   "source": [
    "qu=w_quickunion(10)\n",
    "print(qu.sz)\n",
    "qu.union(4,3)\n",
    "qu.union(3,8)\n",
    "qu.union(6,5)\n",
    "qu.union(9,4)\n",
    "qu.union(2,1)\n",
    "qu.connected(8,9)\n",
    "qu.connected(5,4)\n",
    "qu.union(5,0)\n",
    "qu.union(7,2)\n",
    "qu.union(6,1)\n",
    "qu.union(7,3)\n",
    "\n",
    "print(qu.ls)"
   ]
  },
  {
   "cell_type": "markdown",
   "metadata": {},
   "source": [
    "### Linked list"
   ]
  },
  {
   "cell_type": "code",
   "execution_count": 38,
   "metadata": {},
   "outputs": [],
   "source": [
    "class node:\n",
    "    def __init__(self,data=None):\n",
    "        self.data=data\n",
    "        self.next=None\n",
    "    \n",
    "class linked_list:\n",
    "    def __init__(self):\n",
    "        self.head=node()\n",
    "    \n",
    "    def append(self,data):\n",
    "        new_node=node(data)\n",
    "        current=self.head\n",
    "        while current.next!=None:\n",
    "            current=current.next\n",
    "        current.next=new_node\n",
    "    \n",
    "    def length(self):\n",
    "        count=0\n",
    "        current=self.head\n",
    "        while current.next!=None:\n",
    "            count+=1\n",
    "            current=current.next\n",
    "        return count\n",
    "    def display(self):\n",
    "        lis=[]\n",
    "        current=self.head\n",
    "        while current.next!=None:\n",
    "            current=current.next\n",
    "            lis.append(current.data)\n",
    "        return lis\n",
    "    def get(self,index):\n",
    "        if index>=self.length():\n",
    "            print(\"Out of index\")\n",
    "            return None\n",
    "        ind=0\n",
    "        current=self.head\n",
    "        while True:\n",
    "            current=current.next\n",
    "            if ind==index: return current.data\n",
    "            ind+=1\n",
    "\n",
    "    def set(self,d,index):\n",
    "        if index>=self.length():\n",
    "            print(\"Out of index\")\n",
    "            return None\n",
    "        ind=0\n",
    "        current=self.head\n",
    "        while True:\n",
    "            current=current.next\n",
    "            if ind==index:\n",
    "                current.data=d\n",
    "                return\n",
    "            ind+=1\n",
    "\n",
    "    def erase(self,index):\n",
    "        if index>=self.length():\n",
    "            print(\"Out of index\")\n",
    "            return None\n",
    "        ind=0\n",
    "        current=self.head\n",
    "        while True:\n",
    "            last=current\n",
    "            current=current.next\n",
    "            if ind==index:\n",
    "                last.next=current.next\n",
    "                return\n",
    "            ind+=1\n",
    "            "
   ]
  },
  {
   "cell_type": "code",
   "execution_count": 42,
   "metadata": {},
   "outputs": [
    {
     "data": {
      "text/plain": [
       "[5, 6, 7, 8, 9]"
      ]
     },
     "execution_count": 42,
     "metadata": {},
     "output_type": "execute_result"
    }
   ],
   "source": [
    "ll=linked_list()\n",
    "ll.display()\n",
    "ll.append(5)\n",
    "ll.append(6)\n",
    "ll.append(7)\n",
    "ll.append(8)\n",
    "ll.append(9)\n",
    "ll.append(10)\n",
    "ll.length()\n",
    "ll.get(5)\n",
    "ll.display()\n",
    "ll.erase(5)\n",
    "ll.display()"
   ]
  },
  {
   "cell_type": "markdown",
   "metadata": {},
   "source": [
    "### Stack using linked list"
   ]
  },
  {
   "cell_type": "code",
   "execution_count": 91,
   "metadata": {},
   "outputs": [
    {
     "name": "stdout",
     "output_type": "stream",
     "text": [
      "[3, 2, 1]\n",
      "[2, 1]\n"
     ]
    }
   ],
   "source": [
    "class node:\n",
    "    def __init__(self,data=None,below=None):\n",
    "        self.data=data\n",
    "        self.below=below\n",
    "\n",
    "class stack:\n",
    "    def __init__(self):\n",
    "        self.head=None\n",
    "        self.size=0\n",
    "        \n",
    "    def push(self,data):\n",
    "        new_node=node(data,self.head)\n",
    "        self.head=new_node\n",
    "        self.size+=1\n",
    "        \n",
    "    def is_empty(self):\n",
    "        return self.size==0\n",
    "    \n",
    "    def pull(self):\n",
    "        if self.is_empty()==True: return \"Stack is empty\"\n",
    "        result=self.head.data\n",
    "        self.head=self.head.below\n",
    "        self.size-=1\n",
    "        return result\n",
    "    def peak(self):\n",
    "        if self.is_empty()==True: return \"Stack is empty\"\n",
    "        return self.head.data\n",
    "    \n",
    "    def length(self):\n",
    "        return self.size\n",
    "\n",
    "    def show(self):\n",
    "        lis=[]\n",
    "        if self.is_empty()==True: return []\n",
    "        current=self.head\n",
    "        while current!=None:\n",
    "            lis.append(current.data)\n",
    "            current=current.below  \n",
    "        return lis\n",
    "    \n",
    "    ## Don't need it in stack\n",
    "    def delete(self):\n",
    "        if self.is_empty()==True: return []\n",
    "        current=self.head\n",
    "        current.data=None\n",
    "        self.head=current.below\n",
    "\n",
    "def main():\n",
    "    st=stack()\n",
    "    st.push(1)\n",
    "    st.push(2)\n",
    "    st.push(3)\n",
    "    st.push(4)\n",
    "\n",
    "    st.pull()\n",
    "\n",
    "    print(st.show())\n",
    "    st.delete()\n",
    "    print(st.show())\n",
    "      \n",
    "if __name__ == \"__main__\":\n",
    "    main()"
   ]
  },
  {
   "cell_type": "markdown",
   "metadata": {},
   "source": [
    "### Queue with linked lists"
   ]
  },
  {
   "cell_type": "code",
   "execution_count": 97,
   "metadata": {},
   "outputs": [
    {
     "name": "stdout",
     "output_type": "stream",
     "text": [
      "10\n",
      "6\n",
      "Queue is empty\n"
     ]
    }
   ],
   "source": [
    "class node:\n",
    "    def __init__(self,data=None,below=None):\n",
    "        self.data=data\n",
    "        self.below=below\n",
    "        \n",
    "class queue:\n",
    "    def __init__(self):\n",
    "        self.head=None\n",
    "        self.tail=None\n",
    "        self.len=0\n",
    "    \n",
    "    def is_empty(self):\n",
    "        return self.len==0\n",
    "        \n",
    "    def nqueuing(self,data):\n",
    "        new=node(data,None)\n",
    "        if self.is_empty():\n",
    "            self.head=new\n",
    "        else:\n",
    "            self.tail.below=new   \n",
    "        self.tail=new\n",
    "        self.len+=1\n",
    "    def dqueuing(self):\n",
    "        if self.is_empty():\n",
    "            return \"Queue is empty\"\n",
    "        result=self.head.data\n",
    "        self.head=self.head.below\n",
    "        self.len-=1\n",
    "        if self.is_empty():\n",
    "            self.tail=None\n",
    "        return result\n",
    "        \n",
    "    def peak(self):\n",
    "        return self.head.data\n",
    "    \n",
    "\n",
    "def main():\n",
    "    q=queue()\n",
    "    q.nqueuing(10)\n",
    "    q.nqueuing(20)\n",
    "    q.nqueuing(4)\n",
    "    q.nqueuing(5)\n",
    "    q.nqueuing(6)\n",
    "    q.nqueuing(7)\n",
    "    print(q.dqueuing())\n",
    "    q.dqueuing()\n",
    "    q.dqueuing()\n",
    "    q.dqueuing()\n",
    "    print(q.dqueuing())\n",
    "    q.dqueuing()\n",
    "    q.dqueuing()\n",
    "    q.dqueuing()\n",
    "    print(q.dqueuing())\n",
    "    \n",
    "if __name__ == \"__main__\":\n",
    "    main()"
   ]
  },
  {
   "cell_type": "code",
   "execution_count": null,
   "metadata": {},
   "outputs": [],
   "source": [
    "\n"
   ]
  }
 ],
 "metadata": {
  "kernelspec": {
   "display_name": "Python 3",
   "language": "python",
   "name": "python3"
  },
  "language_info": {
   "codemirror_mode": {
    "name": "ipython",
    "version": 3
   },
   "file_extension": ".py",
   "mimetype": "text/x-python",
   "name": "python",
   "nbconvert_exporter": "python",
   "pygments_lexer": "ipython3",
   "version": "3.8.5"
  }
 },
 "nbformat": 4,
 "nbformat_minor": 4
}
