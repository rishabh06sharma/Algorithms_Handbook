{
 "cells": [
  {
   "cell_type": "code",
   "execution_count": null,
   "metadata": {},
   "outputs": [],
   "source": [
    "import numpy as np"
   ]
  },
  {
   "cell_type": "markdown",
   "metadata": {},
   "source": [
    "# 1. Quick-find\n",
    "## Checks the connection between two points"
   ]
  },
  {
   "cell_type": "code",
   "execution_count": 54,
   "metadata": {},
   "outputs": [],
   "source": [
    "class quickfind:\n",
    "    def __init__(self,L):\n",
    "        self.ls=list(range(0, L))\n",
    "    def connected(self,a,b):\n",
    "        if ls[a]==ls[b]:\n",
    "            print('already connected')\n",
    "        else:\n",
    "            print(False)\n",
    "    def union(self,a,b):\n",
    "        val1,val2=self.ls[a],self.ls[b]\n",
    "        self.ls[a]=ls[b]\n",
    "        for l in range(0,len(self.ls)):\n",
    "            if self.ls[l]==val1:\n",
    "                self.ls[l]=self.ls[b]\n",
    "  "
   ]
  },
  {
   "cell_type": "code",
   "execution_count": 55,
   "metadata": {},
   "outputs": [
    {
     "name": "stdout",
     "output_type": "stream",
     "text": [
      "[1, 1, 1, 8, 8, 1, 1, 1, 8, 8]\n"
     ]
    }
   ],
   "source": [
    "qf=quickfind(10)\n",
    "qf.union(4,3)\n",
    "qf.union(3,8)\n",
    "qf.union(6,5)\n",
    "qf.union(9,4)\n",
    "qf.union(2,1)\n",
    "qf.union(5,0)\n",
    "qf.union(7,2)\n",
    "print(ls)\n",
    "qf.union(6,1)"
   ]
  },
  {
   "cell_type": "markdown",
   "metadata": {},
   "source": [
    "<ul>\n",
    "<li>Cost of the algorithm: Union is expensive (N^2)</li>\n",
    "<li>Very slow</li>\n",
    "</ul>"
   ]
  },
  {
   "cell_type": "markdown",
   "metadata": {},
   "source": [
    "# 2. Quick-Union\n"
   ]
  },
  {
   "cell_type": "code",
   "execution_count": null,
   "metadata": {},
   "outputs": [],
   "source": [
    "class quickfind:\n",
    "    def __init__(self,L):\n",
    "        self.ls=list(range(0, L))\n",
    "    def connected(self,a,b):\n",
    "        if ls[a]==ls[b]:\n",
    "            print('already connected')\n",
    "        else:\n",
    "            print(False)\n",
    "    def union(self,a,b):\n",
    "        val1,val2=self.ls[a],self.ls[b]\n",
    "        self.ls[a]=ls[b]\n",
    "        for l in range(0,len(self.ls)):\n",
    "            if self.ls[l]==val1:\n",
    "                self.ls[l]=self.ls[b]"
   ]
  },
  {
   "cell_type": "code",
   "execution_count": null,
   "metadata": {},
   "outputs": [],
   "source": []
  },
  {
   "cell_type": "code",
   "execution_count": null,
   "metadata": {},
   "outputs": [],
   "source": []
  },
  {
   "cell_type": "code",
   "execution_count": 1,
   "metadata": {},
   "outputs": [],
   "source": []
  }
 ],
 "metadata": {
  "kernelspec": {
   "display_name": "Python 3.7.7 64-bit",
   "language": "python",
   "name": "python37764bit8833143e0469493396c69766997ac15a"
  },
  "language_info": {
   "codemirror_mode": {
    "name": "ipython",
    "version": 3
   },
   "file_extension": ".py",
   "mimetype": "text/x-python",
   "name": "python",
   "nbconvert_exporter": "python",
   "pygments_lexer": "ipython3",
   "version": "3.7.7"
  }
 },
 "nbformat": 4,
 "nbformat_minor": 4
}
