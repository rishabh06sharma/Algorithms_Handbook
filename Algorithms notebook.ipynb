{
 "cells": [
  {
   "cell_type": "code",
   "execution_count": 39,
   "metadata": {},
   "outputs": [
    {
     "ename": "ModuleNotFoundError",
     "evalue": "No module named 'numpy'",
     "output_type": "error",
     "traceback": [
      "\u001b[0;31m---------------------------------------------------------------------------\u001b[0m",
      "\u001b[0;31mModuleNotFoundError\u001b[0m                       Traceback (most recent call last)",
      "\u001b[0;32m<ipython-input-39-0aa0b027fcb6>\u001b[0m in \u001b[0;36m<module>\u001b[0;34m\u001b[0m\n\u001b[0;32m----> 1\u001b[0;31m \u001b[0;32mimport\u001b[0m \u001b[0mnumpy\u001b[0m \u001b[0;32mas\u001b[0m \u001b[0mnp\u001b[0m\u001b[0;34m\u001b[0m\u001b[0;34m\u001b[0m\u001b[0m\n\u001b[0m",
      "\u001b[0;31mModuleNotFoundError\u001b[0m: No module named 'numpy'"
     ]
    }
   ],
   "source": [
    "import numpy as np"
   ]
  },
  {
   "cell_type": "markdown",
   "metadata": {},
   "source": [
    "# 1. Quick-find\n",
    "Checks the connection between two points"
   ]
  },
  {
   "cell_type": "code",
   "execution_count": 44,
   "metadata": {},
   "outputs": [],
   "source": [
    "class quickfind:\n",
    "    def __init__(self,L):\n",
    "        self.ls=list(range(0, L))\n",
    "    def connected(self,a,b):\n",
    "        if self.ls[a]==self.ls[b]:\n",
    "            print('already connected')\n",
    "        else:\n",
    "            print(False)\n",
    "    def union(self,a,b):\n",
    "        val1,val2=self.ls[a],self.ls[b]\n",
    "        self.ls[a]=self.ls[b]\n",
    "        for l in range(0,len(self.ls)):\n",
    "            if self.ls[l]==val1:\n",
    "                self.ls[l]=self.ls[b]\n",
    "  "
   ]
  },
  {
   "cell_type": "code",
   "execution_count": 45,
   "metadata": {},
   "outputs": [
    {
     "name": "stdout",
     "output_type": "stream",
     "text": [
      "[0, 1, 1, 8, 8, 0, 0, 1, 8, 8]\n"
     ]
    }
   ],
   "source": [
    "qf=quickfind(10)\n",
    "qf.union(4,3)\n",
    "qf.union(3,8)\n",
    "qf.union(6,5)\n",
    "qf.union(9,4)\n",
    "qf.union(2,1)\n",
    "qf.union(5,0)\n",
    "qf.union(7,2)\n",
    "print(qf.ls)\n",
    "qf.union(6,1)"
   ]
  },
  {
   "cell_type": "markdown",
   "metadata": {},
   "source": [
    "<ul>\n",
    "<li>Cost of the algorithm: Union is expensive (N^2)</li>\n",
    "<li>Very slow</li>\n",
    "</ul>"
   ]
  },
  {
   "cell_type": "markdown",
   "metadata": {},
   "source": [
    "# 2. Quick-Union\n"
   ]
  },
  {
   "cell_type": "code",
   "execution_count": 46,
   "metadata": {},
   "outputs": [],
   "source": [
    "class quickunion:\n",
    "    def __init__(self,L):\n",
    "        self.ls=list(range(0, L))\n",
    "    \n",
    "    def root(self,x):\n",
    "        while x!=self.ls[x]:\n",
    "            x=self.ls[x]\n",
    "        return x\n",
    "    def connected(self,a,b):\n",
    "        if quickunion.root(self,a)==quickunion.root(self,b):\n",
    "            print('already connected')\n",
    "        else:\n",
    "            print(False)\n",
    "    def union(self,a,b):\n",
    "        val1,val2=quickunion.root(self,a),quickunion.root(self,b)\n",
    "        self.ls[val1]=self.ls[val2]\n"
   ]
  },
  {
   "cell_type": "code",
   "execution_count": 47,
   "metadata": {},
   "outputs": [
    {
     "name": "stdout",
     "output_type": "stream",
     "text": [
      "[1, 1, 1, 8, 3, 0, 5, 1, 8, 8]\n"
     ]
    }
   ],
   "source": [
    "qu=quickunion(10)\n",
    "qu.union(4,3)\n",
    "qu.union(3,8)\n",
    "qu.union(6,5)\n",
    "qu.union(9,4)\n",
    "qu.union(2,1)\n",
    "qu.union(5,0)\n",
    "qu.union(7,2)\n",
    "qu.union(6,1)\n",
    "print(qu.ls)\n"
   ]
  },
  {
   "cell_type": "markdown",
   "metadata": {},
   "source": [
    "Faster than Quick find but also slow generally\n",
    "\n",
    "Improvements:\n",
    "\n",
    "\n",
    "<ul>\n",
    "<li>Weighting</li>\n",
    "    can keep track the number of entities in a tree and then union them accordingly\n",
    "</ul>"
   ]
  },
  {
   "cell_type": "markdown",
   "metadata": {},
   "source": [
    "# 2. Weighted Quick-Union\n"
   ]
  },
  {
   "cell_type": "code",
   "execution_count": null,
   "metadata": {},
   "outputs": [],
   "source": [
    "class w_quickunion:\n",
    "    def __init__(self,L):\n",
    "        self.ls=list(range(0, L))\n",
    "    \n",
    "    def root(self,x):\n",
    "        while x!=self.ls[x]:\n",
    "            x=self.ls[x]\n",
    "        return x\n",
    "    def connected(self,a,b):\n",
    "        if quickunion.root(self,a)==quickunion.root(self,b):\n",
    "            print('already connected')\n",
    "        else:\n",
    "            print(False)\n",
    "    def findsize(p,q):\n",
    "        \n",
    "    def union(self,a,b):\n",
    "        val1,val2=quickunion.root(self,a),quickunion.root(self,b)\n",
    "        if val1==val2:\n",
    "            return\n",
    "        self.ls[val1]=self.ls[val2]"
   ]
  }
 ],
 "metadata": {
  "kernelspec": {
   "display_name": "Python 3",
   "language": "python",
   "name": "python3"
  },
  "language_info": {
   "codemirror_mode": {
    "name": "ipython",
    "version": 3
   },
   "file_extension": ".py",
   "mimetype": "text/x-python",
   "name": "python",
   "nbconvert_exporter": "python",
   "pygments_lexer": "ipython3",
   "version": "3.7.3"
  }
 },
 "nbformat": 4,
 "nbformat_minor": 4
}
