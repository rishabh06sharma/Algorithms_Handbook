{
 "cells": [
  {
   "cell_type": "code",
   "execution_count": 31,
   "metadata": {},
   "outputs": [],
   "source": [
    "import numpy as np"
   ]
  },
  {
   "cell_type": "markdown",
   "metadata": {},
   "source": [
    "# 1. Quick-find\n",
    "Checks the connection between two points"
   ]
  },
  {
   "cell_type": "code",
   "execution_count": 60,
   "metadata": {},
   "outputs": [],
   "source": [
    "class quickfind:\n",
    "    def __init__(self,L):\n",
    "        self.ls=list(range(0, L))\n",
    "    def connected(self,a,b):\n",
    "        if self.ls[a]==self.ls[b]:\n",
    "            print('already connected')\n",
    "        else:\n",
    "            print(False)\n",
    "    def union(self,a,b):\n",
    "        val1,val2=self.ls[a],self.ls[b]\n",
    "        self.ls[a]=self.ls[b]\n",
    "        for l in range(0,len(self.ls)):\n",
    "            if self.ls[l]==val1:\n",
    "                self.ls[l]=self.ls[b]\n",
    "  "
   ]
  },
  {
   "cell_type": "code",
   "execution_count": 61,
   "metadata": {},
   "outputs": [
    {
     "name": "stdout",
     "output_type": "stream",
     "text": [
      "[0, 1, 1, 8, 8, 0, 0, 1, 8, 8]\n"
     ]
    }
   ],
   "source": [
    "qf=quickfind(10)\n",
    "qf.union(4,3)\n",
    "qf.union(3,8)\n",
    "qf.union(6,5)\n",
    "qf.union(9,4)\n",
    "qf.union(2,1)\n",
    "qf.union(5,0)\n",
    "qf.union(7,2)\n",
    "print(qf.ls)\n",
    "qf.union(6,1)"
   ]
  },
  {
   "cell_type": "markdown",
   "metadata": {},
   "source": [
    "<ul>\n",
    "<li>Cost of the algorithm: Union is expensive (N^2)</li>\n",
    "<li>Very slow</li>\n",
    "</ul>"
   ]
  },
  {
   "cell_type": "markdown",
   "metadata": {},
   "source": [
    "# 2. Quick-Union\n"
   ]
  },
  {
   "cell_type": "code",
   "execution_count": 62,
   "metadata": {},
   "outputs": [],
   "source": [
    "class quickunion:\n",
    "    def __init__(self,L):\n",
    "        self.ls=list(range(0, L))\n",
    "    \n",
    "    def root(self,x):\n",
    "        while x!=self.ls[x]:\n",
    "            x=self.ls[x]\n",
    "        ret urn x\n",
    "    def connected(self,a,b):\n",
    "        if quickunion.root(self,a)==quickunion.root(self,b):\n",
    "            print('already connected')\n",
    "        else:\n",
    "            print(False)\n",
    "    def union(self,a,b):\n",
    "        val1,val2=self.root(a),self.root(b)\n",
    "        self.ls[val1]=val2\n"
   ]
  },
  {
   "cell_type": "code",
   "execution_count": 63,
   "metadata": {},
   "outputs": [
    {
     "name": "stdout",
     "output_type": "stream",
     "text": [
      "already connected\n",
      "False\n",
      "[1, 1, 1, 8, 3, 0, 5, 1, 8, 8]\n"
     ]
    }
   ],
   "source": [
    "qu=quickunion(10)\n",
    "qu.union(4,3)\n",
    "qu.union(3,8)\n",
    "qu.union(6,5)\n",
    "qu.union(9,4)\n",
    "qu.union(2,1)\n",
    "qu.connected(8,9)\n",
    "qu.connected(5,4)\n",
    "qu.union(5,0)\n",
    "qu.union(7,2)\n",
    "qu.union(6,1)\n",
    "print(qu.ls)"
   ]
  },
  {
   "cell_type": "markdown",
   "metadata": {},
   "source": [
    "Faster than Quick find but also slow generally\n",
    "\n",
    "Improvements:\n",
    "\n",
    "\n",
    "<ul>\n",
    "<li>Weighting</li>\n",
    "    can keep track the number of entities in a tree and then union them accordingly\n",
    "</ul>"
   ]
  },
  {
   "cell_type": "markdown",
   "metadata": {},
   "source": [
    "# 2. Weighted Quick-Union\n"
   ]
  },
  {
   "cell_type": "code",
   "execution_count": 65,
   "metadata": {},
   "outputs": [],
   "source": [
    "class w_quickunion:\n",
    "    def __init__(self,L):\n",
    "        self.ls=list(range(0, L))\n",
    "        self.sz=[1]*L\n",
    "    \n",
    "    def root(self,x):\n",
    "        while x!=self.ls[x]:\n",
    "            x=self.ls[x]\n",
    "        return x\n",
    "    def connected(self,a,b):\n",
    "        if self.root(a)==self.root(b):\n",
    "            print('Already connected')\n",
    "        else:\n",
    "            print(\"Not connected\")\n",
    "    def union(self,a,b):\n",
    "        val1,val2=self.root(a),self.root(b)\n",
    "        if val1==val2:\n",
    "            return\n",
    "        if self.sz[val1]<self.sz[val2]:\n",
    "            self.ls[val1]=val2\n",
    "            self.sz[val2]+=self.sz[val1]\n",
    "        else:\n",
    "            self.ls[val2]=val1\n",
    "            self.sz[val1]+=self.sz[val2]"
   ]
  },
  {
   "cell_type": "code",
   "execution_count": 66,
   "metadata": {},
   "outputs": [
    {
     "name": "stdout",
     "output_type": "stream",
     "text": [
      "[1, 1, 1, 1, 1, 1, 1, 1, 1, 1]\n",
      "Already connected\n",
      "Not connected\n",
      "[6, 2, 6, 4, 6, 6, 6, 2, 4, 4]\n"
     ]
    }
   ],
   "source": [
    "qu=w_quickunion(10)\n",
    "print(qu.sz)\n",
    "qu.union(4,3)\n",
    "qu.union(3,8)\n",
    "qu.union(6,5)\n",
    "qu.union(9,4)\n",
    "qu.union(2,1)\n",
    "qu.connected(8,9)\n",
    "qu.connected(5,4)\n",
    "qu.union(5,0)\n",
    "qu.union(7,2)\n",
    "qu.union(6,1)\n",
    "qu.union(7,3)\n",
    "\n",
    "print(qu.ls)\n",
    "\n"
   ]
  },
  {
   "cell_type": "markdown",
   "metadata": {},
   "source": [
    "# Weighted quick-unio with path compression"
   ]
  },
  {
   "cell_type": "markdown",
   "metadata": {},
   "source": [
    "Flatning the tree"
   ]
  },
  {
   "cell_type": "code",
   "execution_count": 72,
   "metadata": {},
   "outputs": [],
   "source": [
    "class w_quickunion:\n",
    "    def __init__(self,L):\n",
    "        self.ls=list(range(0, L))\n",
    "        self.sz=[1]*L\n",
    "    \n",
    "    def root(self,x):\n",
    "        while x!=self.ls[x]:\n",
    "            self.ls[x]=self.ls[self.ls[x]]\n",
    "            x=self.ls[x]\n",
    "        return x\n",
    "    def connected(self,a,b):\n",
    "        if self.root(a)==self.root(b):\n",
    "            print('Already connected')\n",
    "        else:\n",
    "            print(\"Not connected\")\n",
    "       \n",
    "    def union(self,a,b):\n",
    "        val1,val2=self.root(a),self.root(b)\n",
    "        if val1==val2:\n",
    "            return\n",
    "        if self.sz[val1]<self.sz[val2]:\n",
    "            self.ls[val1]=val2\n",
    "            self.sz[val2]+=self.sz[val1]\n",
    "        else:\n",
    "            self.ls[val2]=val1\n",
    "            self.sz[val1]+=self.sz[val2]"
   ]
  },
  {
   "cell_type": "code",
   "execution_count": 73,
   "metadata": {},
   "outputs": [
    {
     "name": "stdout",
     "output_type": "stream",
     "text": [
      "[1, 1, 1, 1, 1, 1, 1, 1, 1, 1]\n",
      "Already connected\n",
      "Not connected\n",
      "[6, 2, 6, 4, 6, 6, 6, 6, 4, 4]\n"
     ]
    }
   ],
   "source": [
    "qu=w_quickunion(10)\n",
    "print(qu.sz)\n",
    "qu.union(4,3)\n",
    "qu.union(3,8)\n",
    "qu.union(6,5)\n",
    "qu.union(9,4)\n",
    "qu.union(2,1)\n",
    "qu.connected(8,9)\n",
    "qu.connected(5,4)\n",
    "qu.union(5,0)\n",
    "qu.union(7,2)\n",
    "qu.union(6,1)\n",
    "qu.union(7,3)\n",
    "\n",
    "print(qu.ls)"
   ]
  }
 ],
 "metadata": {
  "kernelspec": {
   "display_name": "Python 3",
   "language": "python",
   "name": "python3"
  },
  "language_info": {
   "codemirror_mode": {
    "name": "ipython",
    "version": 2
   },
   "file_extension": ".py",
   "mimetype": "text/x-python",
   "name": "python",
   "nbconvert_exporter": "python",
   "pygments_lexer": "ipython2",
   "version": "2.7.17"
  }
 },
 "nbformat": 4,
 "nbformat_minor": 4
}
